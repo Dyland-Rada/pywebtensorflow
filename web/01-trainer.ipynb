{
 "cells": [
  {
   "cell_type": "code",
   "execution_count": 3,
   "id": "16054fc5",
   "metadata": {},
   "outputs": [],
   "source": [
    "import pandas as pd"
   ]
  },
  {
   "cell_type": "code",
   "execution_count": 4,
   "id": "f8663765",
   "metadata": {},
   "outputs": [],
   "source": [
    "import numpy as np"
   ]
  },
  {
   "cell_type": "code",
   "execution_count": 5,
   "id": "d59f3c9e",
   "metadata": {},
   "outputs": [],
   "source": [
    "import pandas as pd\n",
    "import numpy as np\n",
    "from tensorflow import keras\n",
    "import matplotlib.pyplot as plt\n",
    "\n",
    "# Red neuronal secuencial\n",
    "from tensorflow.keras.models import Sequential\n",
    "# Capa completamente conectada\n",
    "from tensorflow.keras import layers\n",
    "from tensorflow.keras.layers import Dense, Conv2D\n",
    "# Optimizador\n",
    "from tensorflow.keras.optimizers import Adam"
   ]
  },
  {
   "cell_type": "code",
   "execution_count": 8,
   "id": "cbb4fc23",
   "metadata": {},
   "outputs": [],
   "source": [
    "registros = 10000\n",
    "a = np.random.randint(0, 10, registros)\n",
    "b = np.random.randint(0, 10, registros)\n",
    "c = a * 2 + b"
   ]
  },
  {
   "cell_type": "code",
   "execution_count": 9,
   "id": "9cfac518",
   "metadata": {},
   "outputs": [],
   "source": [
    "data = pd.DataFrame({'a': a, 'b': b, 'c': c})"
   ]
  },
  {
   "cell_type": "code",
   "execution_count": 10,
   "id": "260b411e",
   "metadata": {},
   "outputs": [],
   "source": [
    "X = data[['a', 'b']]\n",
    "y = data[['c']]"
   ]
  },
  {
   "cell_type": "code",
   "execution_count": 11,
   "id": "362f3fbf",
   "metadata": {},
   "outputs": [],
   "source": [
    "# Crear red neuronal \n",
    "nn = Sequential([\n",
    "    layers.Input(2),\n",
    "    layers.Dense(8, activation='relu'),\n",
    "    layers.Dense(8, activation='relu'),\n",
    "    layers.Dense(1, activation='relu')\n",
    "])"
   ]
  },
  {
   "cell_type": "code",
   "execution_count": 12,
   "id": "c07e9702",
   "metadata": {},
   "outputs": [],
   "source": [
    "nn.compile(\n",
    "    loss='mean_absolute_error', # funcion de error\n",
    "    optimizer=Adam(0.001)       # optimizador\n",
    ")"
   ]
  },
  {
   "cell_type": "code",
   "execution_count": 13,
   "id": "79e79432",
   "metadata": {},
   "outputs": [
    {
     "name": "stdout",
     "output_type": "stream",
     "text": [
      "Epoch 1/10\n",
      "250/250 [==============================] - 4s 8ms/step - loss: 5.2339 - val_loss: 0.7027\n",
      "Epoch 2/10\n",
      "250/250 [==============================] - 1s 6ms/step - loss: 0.3035 - val_loss: 0.1048\n",
      "Epoch 3/10\n",
      "250/250 [==============================] - 1s 5ms/step - loss: 0.0800 - val_loss: 0.0557\n",
      "Epoch 4/10\n",
      "250/250 [==============================] - 1s 5ms/step - loss: 0.0368 - val_loss: 0.0318\n",
      "Epoch 5/10\n",
      "250/250 [==============================] - 1s 3ms/step - loss: 0.0198 - val_loss: 0.0102\n",
      "Epoch 6/10\n",
      "250/250 [==============================] - 1s 4ms/step - loss: 0.0155 - val_loss: 0.0137\n",
      "Epoch 7/10\n",
      "250/250 [==============================] - 1s 4ms/step - loss: 0.0109 - val_loss: 0.0129\n",
      "Epoch 8/10\n",
      "250/250 [==============================] - 2s 6ms/step - loss: 0.0137 - val_loss: 0.0120\n",
      "Epoch 9/10\n",
      "250/250 [==============================] - 1s 5ms/step - loss: 0.0117 - val_loss: 0.0079\n",
      "Epoch 10/10\n",
      "250/250 [==============================] - 1s 6ms/step - loss: 0.0101 - val_loss: 0.0247\n"
     ]
    }
   ],
   "source": [
    "history = nn.fit(\n",
    "    X,\n",
    "    y,\n",
    "    validation_split=0.2,\n",
    "    verbose=1,\n",
    "    epochs=10\n",
    ")"
   ]
  },
  {
   "cell_type": "code",
   "execution_count": 19,
   "id": "91d356ce",
   "metadata": {},
   "outputs": [
    {
     "name": "stdout",
     "output_type": "stream",
     "text": [
      "1/1 [==============================] - 0s 54ms/step\n",
      "[[10.016308]]\n"
     ]
    }
   ],
   "source": [
    "prediccion = nn.predict(np.array([[3, 4]]))\n",
    "print(prediccion)"
   ]
  },
  {
   "cell_type": "code",
   "execution_count": 20,
   "id": "523b8a03",
   "metadata": {},
   "outputs": [
    {
     "name": "stderr",
     "output_type": "stream",
     "text": [
      "C:\\Users\\sy\\anaconda3\\Lib\\site-packages\\keras\\src\\engine\\training.py:3079: UserWarning: You are saving your model as an HDF5 file via `model.save()`. This file format is considered legacy. We recommend using instead the native Keras format, e.g. `model.save('my_model.keras')`.\n",
      "  saving_api.save_model(\n"
     ]
    }
   ],
   "source": [
    "nn.save('regresion.h5')"
   ]
  }
 ],
 "metadata": {
  "kernelspec": {
   "display_name": "Python 3 (ipykernel)",
   "language": "python",
   "name": "python3"
  },
  "language_info": {
   "codemirror_mode": {
    "name": "ipython",
    "version": 3
   },
   "file_extension": ".py",
   "mimetype": "text/x-python",
   "name": "python",
   "nbconvert_exporter": "python",
   "pygments_lexer": "ipython3",
   "version": "3.11.4"
  }
 },
 "nbformat": 4,
 "nbformat_minor": 5
}
